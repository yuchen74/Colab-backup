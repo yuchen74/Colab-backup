{
  "nbformat": 4,
  "nbformat_minor": 5,
  "metadata": {
    "kernelspec": {
      "display_name": "Python 3",
      "language": "python",
      "name": "python3"
    },
    "language_info": {
      "codemirror_mode": {
        "name": "ipython",
        "version": 3
      },
      "file_extension": ".py",
      "mimetype": "text/x-python",
      "name": "python",
      "nbconvert_exporter": "python",
      "pygments_lexer": "ipython3",
      "version": "3.9.1"
    },
    "toc-autonumbering": true,
    "toc-showmarkdowntxt": false,
    "colab": {
      "name": "4 Emotion detection.ipynb",
      "provenance": [],
      "include_colab_link": true
    }
  },
  "cells": [
    {
      "cell_type": "markdown",
      "metadata": {
        "id": "view-in-github",
        "colab_type": "text"
      },
      "source": [
        "<a href=\"https://colab.research.google.com/github/yuchen74/Colab-backup/blob/main/4_Emotion_detection.ipynb\" target=\"_parent\"><img src=\"https://colab.research.google.com/assets/colab-badge.svg\" alt=\"Open In Colab\"/></a>"
      ]
    },
    {
      "cell_type": "markdown",
      "metadata": {
        "id": "native-baltimore"
      },
      "source": [
        "# Dataset: *charliehebdo*"
      ],
      "id": "native-baltimore"
    },
    {
      "cell_type": "code",
      "metadata": {
        "id": "raised-mentor"
      },
      "source": [
        "import numpy as np\n",
        "import pandas as pd\n",
        "import datetime \n",
        "import matplotlib.pyplot as plt\n",
        "import seaborn as sns"
      ],
      "id": "raised-mentor",
      "execution_count": null,
      "outputs": []
    },
    {
      "cell_type": "code",
      "metadata": {
        "id": "powerful-thumb"
      },
      "source": [
        "df = pd.read_csv(r'D:\\論文\\PHEME9\\Data\\CSV\\charliehebdo.csv', encoding = 'utf-8', header = None)\n",
        "df.columns = ['src_tweet_id', 'src_user_id', 'src_tweet','src_date','reply_tweet_id','reply_user_id','reply_tweet','reply_date', 'label']\n",
        "df.reply_tweet = df.reply_tweet.replace(np.nan,\"\")"
      ],
      "id": "powerful-thumb",
      "execution_count": null,
      "outputs": []
    },
    {
      "cell_type": "code",
      "metadata": {
        "id": "technical-sailing",
        "outputId": "7f72dd22-e415-4bf0-da4c-2cd4d2273e66"
      },
      "source": [
        "src_tw_df = df.iloc[:,[0,1,2,3,8]].copy()\n",
        "src_tw_df = src_tw_df.drop_duplicates()\n",
        "src_tw_df.reset_index(inplace=True,drop=True)\n",
        "src_tw_df"
      ],
      "id": "technical-sailing",
      "execution_count": null,
      "outputs": [
        {
          "data": {
            "text/html": [
              "<div>\n",
              "<style scoped>\n",
              "    .dataframe tbody tr th:only-of-type {\n",
              "        vertical-align: middle;\n",
              "    }\n",
              "\n",
              "    .dataframe tbody tr th {\n",
              "        vertical-align: top;\n",
              "    }\n",
              "\n",
              "    .dataframe thead th {\n",
              "        text-align: right;\n",
              "    }\n",
              "</style>\n",
              "<table border=\"1\" class=\"dataframe\">\n",
              "  <thead>\n",
              "    <tr style=\"text-align: right;\">\n",
              "      <th></th>\n",
              "      <th>src_tweet_id</th>\n",
              "      <th>src_user_id</th>\n",
              "      <th>src_tweet</th>\n",
              "      <th>src_date</th>\n",
              "      <th>label</th>\n",
              "    </tr>\n",
              "  </thead>\n",
              "  <tbody>\n",
              "    <tr>\n",
              "      <th>0</th>\n",
              "      <td>552784600502915072</td>\n",
              "      <td>331658004</td>\n",
              "      <td>Charlie Hebdo became well known for publishing...</td>\n",
              "      <td>Wed Jan 07 11:11:33 +0000 2015</td>\n",
              "      <td>0</td>\n",
              "    </tr>\n",
              "    <tr>\n",
              "      <th>1</th>\n",
              "      <td>552784898743099392</td>\n",
              "      <td>465973</td>\n",
              "      <td>Charlie Hebdo’s Last Tweet Before Shootings ht...</td>\n",
              "      <td>Wed Jan 07 11:12:44 +0000 2015</td>\n",
              "      <td>0</td>\n",
              "    </tr>\n",
              "    <tr>\n",
              "      <th>2</th>\n",
              "      <td>552785391653494784</td>\n",
              "      <td>15798091</td>\n",
              "      <td>Prediction: the #CharlieHebdo massacre will no...</td>\n",
              "      <td>Wed Jan 07 11:14:42 +0000 2015</td>\n",
              "      <td>0</td>\n",
              "    </tr>\n",
              "    <tr>\n",
              "      <th>3</th>\n",
              "      <td>552786116404072448</td>\n",
              "      <td>465973</td>\n",
              "      <td>10:28am Charlie Hebdo account mocks ISIS leade...</td>\n",
              "      <td>Wed Jan 07 11:17:35 +0000 2015</td>\n",
              "      <td>0</td>\n",
              "    </tr>\n",
              "    <tr>\n",
              "      <th>4</th>\n",
              "      <td>552786299875520512</td>\n",
              "      <td>144301368</td>\n",
              "      <td>If your faith isn't strong enough to cope with...</td>\n",
              "      <td>Wed Jan 07 11:18:18 +0000 2015</td>\n",
              "      <td>0</td>\n",
              "    </tr>\n",
              "    <tr>\n",
              "      <th>...</th>\n",
              "      <td>...</td>\n",
              "      <td>...</td>\n",
              "      <td>...</td>\n",
              "      <td>...</td>\n",
              "      <td>...</td>\n",
              "    </tr>\n",
              "    <tr>\n",
              "      <th>1997</th>\n",
              "      <td>553590653784195072</td>\n",
              "      <td>380648579</td>\n",
              "      <td>#BREAKING Paris supermarket hostage-taker 'neu...</td>\n",
              "      <td>Fri Jan 09 16:34:31 +0000 2015</td>\n",
              "      <td>1</td>\n",
              "    </tr>\n",
              "    <tr>\n",
              "      <th>1998</th>\n",
              "      <td>553590721207615488</td>\n",
              "      <td>5402612</td>\n",
              "      <td>Hostages held at kosher supermarket in eastern...</td>\n",
              "      <td>Fri Jan 09 16:34:47 +0000 2015</td>\n",
              "      <td>1</td>\n",
              "    </tr>\n",
              "    <tr>\n",
              "      <th>1999</th>\n",
              "      <td>553590835850514433</td>\n",
              "      <td>7587032</td>\n",
              "      <td>Hostage-taker in supermarket siege killed, rep...</td>\n",
              "      <td>Fri Jan 09 16:35:15 +0000 2015</td>\n",
              "      <td>1</td>\n",
              "    </tr>\n",
              "    <tr>\n",
              "      <th>2000</th>\n",
              "      <td>553590891852886019</td>\n",
              "      <td>18424289</td>\n",
              "      <td>French media reports two suspects of #CharlieH...</td>\n",
              "      <td>Fri Jan 09 16:35:28 +0000 2015</td>\n",
              "      <td>1</td>\n",
              "    </tr>\n",
              "    <tr>\n",
              "      <th>2001</th>\n",
              "      <td>553591259672379392</td>\n",
              "      <td>87416722</td>\n",
              "      <td>Update - PA: gunman holding hostages in #Paris...</td>\n",
              "      <td>Fri Jan 09 16:36:56 +0000 2015</td>\n",
              "      <td>1</td>\n",
              "    </tr>\n",
              "  </tbody>\n",
              "</table>\n",
              "<p>2002 rows × 5 columns</p>\n",
              "</div>"
            ],
            "text/plain": [
              "            src_tweet_id  src_user_id  \\\n",
              "0     552784600502915072    331658004   \n",
              "1     552784898743099392       465973   \n",
              "2     552785391653494784     15798091   \n",
              "3     552786116404072448       465973   \n",
              "4     552786299875520512    144301368   \n",
              "...                  ...          ...   \n",
              "1997  553590653784195072    380648579   \n",
              "1998  553590721207615488      5402612   \n",
              "1999  553590835850514433      7587032   \n",
              "2000  553590891852886019     18424289   \n",
              "2001  553591259672379392     87416722   \n",
              "\n",
              "                                              src_tweet  \\\n",
              "0     Charlie Hebdo became well known for publishing...   \n",
              "1     Charlie Hebdo’s Last Tweet Before Shootings ht...   \n",
              "2     Prediction: the #CharlieHebdo massacre will no...   \n",
              "3     10:28am Charlie Hebdo account mocks ISIS leade...   \n",
              "4     If your faith isn't strong enough to cope with...   \n",
              "...                                                 ...   \n",
              "1997  #BREAKING Paris supermarket hostage-taker 'neu...   \n",
              "1998  Hostages held at kosher supermarket in eastern...   \n",
              "1999  Hostage-taker in supermarket siege killed, rep...   \n",
              "2000  French media reports two suspects of #CharlieH...   \n",
              "2001  Update - PA: gunman holding hostages in #Paris...   \n",
              "\n",
              "                            src_date  label  \n",
              "0     Wed Jan 07 11:11:33 +0000 2015      0  \n",
              "1     Wed Jan 07 11:12:44 +0000 2015      0  \n",
              "2     Wed Jan 07 11:14:42 +0000 2015      0  \n",
              "3     Wed Jan 07 11:17:35 +0000 2015      0  \n",
              "4     Wed Jan 07 11:18:18 +0000 2015      0  \n",
              "...                              ...    ...  \n",
              "1997  Fri Jan 09 16:34:31 +0000 2015      1  \n",
              "1998  Fri Jan 09 16:34:47 +0000 2015      1  \n",
              "1999  Fri Jan 09 16:35:15 +0000 2015      1  \n",
              "2000  Fri Jan 09 16:35:28 +0000 2015      1  \n",
              "2001  Fri Jan 09 16:36:56 +0000 2015      1  \n",
              "\n",
              "[2002 rows x 5 columns]"
            ]
          },
          "execution_count": 9,
          "metadata": {},
          "output_type": "execute_result"
        }
      ]
    },
    {
      "cell_type": "markdown",
      "metadata": {
        "id": "corrected-release"
      },
      "source": [
        "# Preprocessing\n",
        " - lowercase\n",
        " - remove hashtag\n",
        " - remove urls\n",
        " - remove punctuation\n",
        " - remove userhandles\n",
        " - remove multiple spaces\n"
      ],
      "id": "corrected-release"
    },
    {
      "cell_type": "code",
      "metadata": {
        "id": "english-development"
      },
      "source": [
        "import nltk\n",
        "from nltk.corpus import stopwords "
      ],
      "id": "english-development",
      "execution_count": null,
      "outputs": []
    },
    {
      "cell_type": "markdown",
      "metadata": {
        "id": "confirmed-shareware"
      },
      "source": [
        "## Define function to process text at one time"
      ],
      "id": "confirmed-shareware"
    },
    {
      "cell_type": "code",
      "metadata": {
        "id": "appointed-shore"
      },
      "source": [
        "def textprocessing(text):\n",
        "    text = text.lower()\n",
        "\n",
        "    text = \" \".join([word for word in text.split() if 'http' not in word\n",
        "                                and not word.startswith('@')])\n",
        "                                #and word != 'RT'])\n",
        "    import re\n",
        "    def remove_punct(tweet):\n",
        "        new_words = []\n",
        "        for word in tweet:\n",
        "            w = re.sub(r'[^\\w\\s]','',word) #remove everything except words and space\n",
        "            w = re.sub(r'_','',w) #how to remove underscore as well\n",
        "            new_words.append(w)\n",
        "\n",
        "        return new_words\n",
        "    text = \"\".join(remove_punct(text))\n",
        "        \n",
        "    from nltk.stem.porter import PorterStemmer\n",
        "    stem = PorterStemmer()\n",
        "    \n",
        "    from nltk.tokenize import TweetTokenizer\n",
        "    tknzr = TweetTokenizer(strip_handles=True)\n",
        "    text = tknzr.tokenize(text)\n",
        "    \n",
        "    from nltk.corpus import stopwords\n",
        "    stop_words=set(stopwords.words(\"english\"))\n",
        "    def filterstopwords(tw):\n",
        "        filter_stopwords = []\n",
        "        for w in tw:\n",
        "            if w not in stop_words:\n",
        "                filter_stopwords.append(w)\n",
        "        return filter_stopwords\n",
        "    text = filterstopwords(text)\n",
        "    text = \" \".join(text)\n",
        "    \n",
        "    return text"
      ],
      "id": "appointed-shore",
      "execution_count": null,
      "outputs": []
    },
    {
      "cell_type": "code",
      "metadata": {
        "id": "productive-synthesis",
        "outputId": "5a0a2d06-7cec-41b2-a609-60447a2e226d"
      },
      "source": [
        "print(\"original text: \", df.reply_tweet.iloc[20])\n",
        "print(\"cleaned text: \", textprocessing(df.reply_tweet.iloc[20]))"
      ],
      "id": "productive-synthesis",
      "execution_count": null,
      "outputs": [
        {
          "name": "stdout",
          "output_type": "stream",
          "text": [
            "original text:  @lj_kulwicki @GabTarquini @BBCDanielS @BBCWorld We're not allowed to commit heinous crimes, especially in the name of God.\n",
            "cleaned text:  allowed commit heinous crimes especially name god\n"
          ]
        }
      ]
    },
    {
      "cell_type": "markdown",
      "metadata": {
        "id": "twelve-movement"
      },
      "source": [
        "## Process data\n",
        "### applied on original data (**df**)"
      ],
      "id": "twelve-movement"
    },
    {
      "cell_type": "code",
      "metadata": {
        "id": "secure-programmer"
      },
      "source": [
        "df['cleaned_reply_tw'] = df.reply_tweet.apply(textprocessing)\n",
        "df['cleaned_src_tw'] = df.src_tweet.apply(textprocessing)"
      ],
      "id": "secure-programmer",
      "execution_count": null,
      "outputs": []
    },
    {
      "cell_type": "code",
      "metadata": {
        "id": "informational-apparatus",
        "outputId": "73fb9c83-7927-4734-996d-d926749edc12"
      },
      "source": [
        "df.head()"
      ],
      "id": "informational-apparatus",
      "execution_count": null,
      "outputs": [
        {
          "data": {
            "text/html": [
              "<div>\n",
              "<style scoped>\n",
              "    .dataframe tbody tr th:only-of-type {\n",
              "        vertical-align: middle;\n",
              "    }\n",
              "\n",
              "    .dataframe tbody tr th {\n",
              "        vertical-align: top;\n",
              "    }\n",
              "\n",
              "    .dataframe thead th {\n",
              "        text-align: right;\n",
              "    }\n",
              "</style>\n",
              "<table border=\"1\" class=\"dataframe\">\n",
              "  <thead>\n",
              "    <tr style=\"text-align: right;\">\n",
              "      <th></th>\n",
              "      <th>src_tweet_id</th>\n",
              "      <th>src_user_id</th>\n",
              "      <th>src_tweet</th>\n",
              "      <th>src_date</th>\n",
              "      <th>reply_tweet_id</th>\n",
              "      <th>reply_user_id</th>\n",
              "      <th>reply_tweet</th>\n",
              "      <th>reply_date</th>\n",
              "      <th>label</th>\n",
              "      <th>cleaned_reply_tw</th>\n",
              "      <th>cleaned_src_tw</th>\n",
              "    </tr>\n",
              "  </thead>\n",
              "  <tbody>\n",
              "    <tr>\n",
              "      <th>0</th>\n",
              "      <td>552784600502915072</td>\n",
              "      <td>331658004</td>\n",
              "      <td>Charlie Hebdo became well known for publishing...</td>\n",
              "      <td>Wed Jan 07 11:11:33 +0000 2015</td>\n",
              "      <td>552785249420447745</td>\n",
              "      <td>18370911</td>\n",
              "      <td>Now 10 dead in a shooting there today RT \"@BBC...</td>\n",
              "      <td>Wed Jan 07 11:14:08 +0000 2015</td>\n",
              "      <td>0</td>\n",
              "      <td>10 dead shooting today rt bbcdaniels charlie h...</td>\n",
              "      <td>charlie hebdo became well known publishing muh...</td>\n",
              "    </tr>\n",
              "    <tr>\n",
              "      <th>1</th>\n",
              "      <td>552784600502915072</td>\n",
              "      <td>331658004</td>\n",
              "      <td>Charlie Hebdo became well known for publishing...</td>\n",
              "      <td>Wed Jan 07 11:11:33 +0000 2015</td>\n",
              "      <td>552786761534144512</td>\n",
              "      <td>2806109387</td>\n",
              "      <td>@BBCDanielS @BBCWorld I'm guessing this is bei...</td>\n",
              "      <td>Wed Jan 07 11:20:08 +0000 2015</td>\n",
              "      <td>0</td>\n",
              "      <td>im guessing considered terrorism right lone wolf</td>\n",
              "      <td>charlie hebdo became well known publishing muh...</td>\n",
              "    </tr>\n",
              "    <tr>\n",
              "      <th>2</th>\n",
              "      <td>552784600502915072</td>\n",
              "      <td>331658004</td>\n",
              "      <td>Charlie Hebdo became well known for publishing...</td>\n",
              "      <td>Wed Jan 07 11:11:33 +0000 2015</td>\n",
              "      <td>552786803884060672</td>\n",
              "      <td>146142164</td>\n",
              "      <td>@BBCDanielS @BBCWorld why would you mention th...</td>\n",
              "      <td>Wed Jan 07 11:20:18 +0000 2015</td>\n",
              "      <td>0</td>\n",
              "      <td>would mention knowing facts islamphobiaatitsbest</td>\n",
              "      <td>charlie hebdo became well known publishing muh...</td>\n",
              "    </tr>\n",
              "    <tr>\n",
              "      <th>3</th>\n",
              "      <td>552784600502915072</td>\n",
              "      <td>331658004</td>\n",
              "      <td>Charlie Hebdo became well known for publishing...</td>\n",
              "      <td>Wed Jan 07 11:11:33 +0000 2015</td>\n",
              "      <td>552786954656710656</td>\n",
              "      <td>940853760</td>\n",
              "      <td>@BBCDanielS @BBCWorld perps identified?</td>\n",
              "      <td>Wed Jan 07 11:20:54 +0000 2015</td>\n",
              "      <td>0</td>\n",
              "      <td>perps identified</td>\n",
              "      <td>charlie hebdo became well known publishing muh...</td>\n",
              "    </tr>\n",
              "    <tr>\n",
              "      <th>4</th>\n",
              "      <td>552784600502915072</td>\n",
              "      <td>331658004</td>\n",
              "      <td>Charlie Hebdo became well known for publishing...</td>\n",
              "      <td>Wed Jan 07 11:11:33 +0000 2015</td>\n",
              "      <td>552787979224092672</td>\n",
              "      <td>2888783532</td>\n",
              "      <td>@BBCDanielS @BBCWorld who is charlie hebdo?</td>\n",
              "      <td>Wed Jan 07 11:24:59 +0000 2015</td>\n",
              "      <td>0</td>\n",
              "      <td>charlie hebdo</td>\n",
              "      <td>charlie hebdo became well known publishing muh...</td>\n",
              "    </tr>\n",
              "  </tbody>\n",
              "</table>\n",
              "</div>"
            ],
            "text/plain": [
              "         src_tweet_id  src_user_id  \\\n",
              "0  552784600502915072    331658004   \n",
              "1  552784600502915072    331658004   \n",
              "2  552784600502915072    331658004   \n",
              "3  552784600502915072    331658004   \n",
              "4  552784600502915072    331658004   \n",
              "\n",
              "                                           src_tweet  \\\n",
              "0  Charlie Hebdo became well known for publishing...   \n",
              "1  Charlie Hebdo became well known for publishing...   \n",
              "2  Charlie Hebdo became well known for publishing...   \n",
              "3  Charlie Hebdo became well known for publishing...   \n",
              "4  Charlie Hebdo became well known for publishing...   \n",
              "\n",
              "                         src_date      reply_tweet_id  reply_user_id  \\\n",
              "0  Wed Jan 07 11:11:33 +0000 2015  552785249420447745       18370911   \n",
              "1  Wed Jan 07 11:11:33 +0000 2015  552786761534144512     2806109387   \n",
              "2  Wed Jan 07 11:11:33 +0000 2015  552786803884060672      146142164   \n",
              "3  Wed Jan 07 11:11:33 +0000 2015  552786954656710656      940853760   \n",
              "4  Wed Jan 07 11:11:33 +0000 2015  552787979224092672     2888783532   \n",
              "\n",
              "                                         reply_tweet  \\\n",
              "0  Now 10 dead in a shooting there today RT \"@BBC...   \n",
              "1  @BBCDanielS @BBCWorld I'm guessing this is bei...   \n",
              "2  @BBCDanielS @BBCWorld why would you mention th...   \n",
              "3            @BBCDanielS @BBCWorld perps identified?   \n",
              "4        @BBCDanielS @BBCWorld who is charlie hebdo?   \n",
              "\n",
              "                       reply_date  label  \\\n",
              "0  Wed Jan 07 11:14:08 +0000 2015      0   \n",
              "1  Wed Jan 07 11:20:08 +0000 2015      0   \n",
              "2  Wed Jan 07 11:20:18 +0000 2015      0   \n",
              "3  Wed Jan 07 11:20:54 +0000 2015      0   \n",
              "4  Wed Jan 07 11:24:59 +0000 2015      0   \n",
              "\n",
              "                                    cleaned_reply_tw  \\\n",
              "0  10 dead shooting today rt bbcdaniels charlie h...   \n",
              "1   im guessing considered terrorism right lone wolf   \n",
              "2   would mention knowing facts islamphobiaatitsbest   \n",
              "3                                   perps identified   \n",
              "4                                      charlie hebdo   \n",
              "\n",
              "                                      cleaned_src_tw  \n",
              "0  charlie hebdo became well known publishing muh...  \n",
              "1  charlie hebdo became well known publishing muh...  \n",
              "2  charlie hebdo became well known publishing muh...  \n",
              "3  charlie hebdo became well known publishing muh...  \n",
              "4  charlie hebdo became well known publishing muh...  "
            ]
          },
          "execution_count": 14,
          "metadata": {},
          "output_type": "execute_result"
        }
      ]
    },
    {
      "cell_type": "markdown",
      "metadata": {
        "id": "collective-draft"
      },
      "source": [
        "### applied on Source Tweet (**src_tw_df**)"
      ],
      "id": "collective-draft"
    },
    {
      "cell_type": "code",
      "metadata": {
        "id": "sublime-commercial"
      },
      "source": [
        "src_tw_df['cleaned_src_tw'] = src_tw_df.src_tweet.apply(textprocessing)"
      ],
      "id": "sublime-commercial",
      "execution_count": null,
      "outputs": []
    },
    {
      "cell_type": "markdown",
      "metadata": {
        "id": "published-africa"
      },
      "source": [
        "# Sentiment Analysis"
      ],
      "id": "published-africa"
    },
    {
      "cell_type": "markdown",
      "metadata": {
        "id": "important-masters"
      },
      "source": [
        "## Vader "
      ],
      "id": "important-masters"
    },
    {
      "cell_type": "code",
      "metadata": {
        "id": "equivalent-sarah"
      },
      "source": [
        "from vaderSentiment.vaderSentiment import SentimentIntensityAnalyzer"
      ],
      "id": "equivalent-sarah",
      "execution_count": null,
      "outputs": []
    },
    {
      "cell_type": "code",
      "metadata": {
        "id": "ceramic-decision"
      },
      "source": [
        "def get_sentiment(tweet):\n",
        "    analyzer = SentimentIntensityAnalyzer()\n",
        "    vs = analyzer.polarity_scores(tweet)\n",
        "    if vs['compound'] >=0.05:\n",
        "        sentiment_label = 'Positive'\n",
        "    elif (vs['compound'] > -0.05) & (vs['compound'] < 0.05):\n",
        "        sentiment_label = 'Neutral'\n",
        "    elif vs['compound']<= -0.05:\n",
        "        sentiment_label = 'Negative' \n",
        "    result = sentiment_label\n",
        "    return result"
      ],
      "id": "ceramic-decision",
      "execution_count": null,
      "outputs": []
    },
    {
      "cell_type": "code",
      "metadata": {
        "id": "rubber-amino"
      },
      "source": [
        "df['src_sentiment']= df.cleaned_src_tw.apply(get_sentiment)\n",
        "df['reply_sentiment']= df.cleaned_reply_tw.apply(get_sentiment)"
      ],
      "id": "rubber-amino",
      "execution_count": null,
      "outputs": []
    },
    {
      "cell_type": "code",
      "metadata": {
        "id": "imperial-diagram"
      },
      "source": [
        "src_tw_df['src_sentiment']=  src_tw_df['cleaned_src_tw'].apply(get_sentiment)"
      ],
      "id": "imperial-diagram",
      "execution_count": null,
      "outputs": []
    },
    {
      "cell_type": "code",
      "metadata": {
        "id": "published-retirement"
      },
      "source": [
        "df.to_csv(r'D:\\論文\\PHEME9\\Data\\CSV\\charliehebdo-df.csv',index=False)\n",
        "src_tw_df.to_csv(r'D:\\論文\\PHEME9\\Data\\CSV\\charliehebdo-src.csv',index=False)"
      ],
      "id": "published-retirement",
      "execution_count": null,
      "outputs": []
    },
    {
      "cell_type": "markdown",
      "metadata": {
        "id": "twelve-flower"
      },
      "source": [
        "## textblob"
      ],
      "id": "twelve-flower"
    },
    {
      "cell_type": "code",
      "metadata": {
        "id": "transsexual-puppy",
        "outputId": "d97838bb-580b-48b6-9ec3-9c860d140fa2"
      },
      "source": [
        "# from textblob import TextBlob"
      ],
      "id": "transsexual-puppy",
      "execution_count": null,
      "outputs": [
        {
          "data": {
            "text/plain": [
              "'from textblob import TextBlob'"
            ]
          },
          "execution_count": 33,
          "metadata": {},
          "output_type": "execute_result"
        }
      ]
    },
    {
      "cell_type": "code",
      "metadata": {
        "id": "current-transcript"
      },
      "source": [
        "# def get_sentiment(text):\n",
        "#     blob = TextBlob(text)\n",
        "#     sentiment_polarity = blob.sentiment.polarity\n",
        "#     if sentiment_polarity > 0:\n",
        "#         sentiment_label = 'Positive'\n",
        "#     elif sentiment_polarity < 0:\n",
        "#         sentiment_label = 'Negative'\n",
        "#     else:\n",
        "#         sentiment_label = 'Neutral'\n",
        "#     result = sentiment_label\n",
        "#     return result"
      ],
      "id": "current-transcript",
      "execution_count": null,
      "outputs": []
    },
    {
      "cell_type": "markdown",
      "metadata": {
        "id": "employed-inventory"
      },
      "source": [
        "## Visualization"
      ],
      "id": "employed-inventory"
    },
    {
      "cell_type": "code",
      "metadata": {
        "id": "progressive-strength"
      },
      "source": [
        "print(df[df.label ==1]['reply_sentiment'].value_counts())\n",
        "plt.figure(figsize=(8,6))\n",
        "sns.countplot(x='reply_sentiment',data= df[df['label'] == 1])\n",
        "\n",
        "plt.suptitle('Sentiment analysis on Reply tweets under Catergory Rumour',fontsize=16)\n",
        "plt.title('Reply tweets show more positive attitude towards rumour tweet',fontsize=12,color='grey')\n",
        "plt.savefig('graph/charliehebdo/senti_reply_rumour.pdf',dpi=300)"
      ],
      "id": "progressive-strength",
      "execution_count": null,
      "outputs": []
    },
    {
      "cell_type": "code",
      "metadata": {
        "id": "challenging-friend"
      },
      "source": [
        "print(df[df.label ==0]['reply_sentiment'].value_counts())\n",
        "plt.figure(figsize=(8,6))\n",
        "sns.countplot(x='reply_sentiment',data= df[df['label'] == 0])\n",
        "\n",
        "plt.suptitle('Sentiment analysis on Reply tweets under Catergory Non-Rumour',fontsize=16)\n",
        "plt.title('Reply tweets show more neutrual attitude towards non-rumour tweet',fontsize=12,color='grey')\n",
        "plt.savefig('graph/charliehebdo/senti_reply_nonrumour.pdf',dpi=300)"
      ],
      "id": "challenging-friend",
      "execution_count": null,
      "outputs": []
    },
    {
      "cell_type": "markdown",
      "metadata": {
        "id": "dietary-accessory"
      },
      "source": [
        "# Emotion Detection"
      ],
      "id": "dietary-accessory"
    },
    {
      "cell_type": "markdown",
      "metadata": {
        "id": "parental-simon"
      },
      "source": [
        "## NRCLex"
      ],
      "id": "parental-simon"
    },
    {
      "cell_type": "code",
      "metadata": {
        "id": "awful-programming"
      },
      "source": [
        "from nltk.tokenize import word_tokenize,TweetTokenizer"
      ],
      "id": "awful-programming",
      "execution_count": null,
      "outputs": []
    },
    {
      "cell_type": "code",
      "metadata": {
        "colab": {
          "resources": {
            "http://localhost:8080/nbextensions/google.colab/files.js": {
              "data": "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",
              "ok": true,
              "headers": [
                [
                  "content-type",
                  "application/javascript"
                ]
              ],
              "status": 200,
              "status_text": ""
            }
          },
          "base_uri": "https://localhost:8080/",
          "height": 110
        },
        "id": "j4cauPTv9x1C",
        "outputId": "44a3747d-5746-43d8-ad68-78779ddded29"
      },
      "source": [
        "from google.colab import files\n",
        "uploaded = files.upload()"
      ],
      "id": "j4cauPTv9x1C",
      "execution_count": null,
      "outputs": [
        {
          "output_type": "display_data",
          "data": {
            "text/html": [
              "\n",
              "     <input type=\"file\" id=\"files-8a45e953-6e9b-4959-9e64-884398aab727\" name=\"files[]\" multiple disabled\n",
              "        style=\"border:none\" />\n",
              "     <output id=\"result-8a45e953-6e9b-4959-9e64-884398aab727\">\n",
              "      Upload widget is only available when the cell has been executed in the\n",
              "      current browser session. Please rerun this cell to enable.\n",
              "      </output>\n",
              "      <script src=\"/nbextensions/google.colab/files.js\"></script> "
            ],
            "text/plain": [
              "<IPython.core.display.HTML object>"
            ]
          },
          "metadata": {}
        },
        {
          "output_type": "stream",
          "name": "stdout",
          "text": [
            "Saving charliehebdo-df.csv to charliehebdo-df.csv\n",
            "Saving charliehebdo-src.csv to charliehebdo-src.csv\n"
          ]
        }
      ]
    },
    {
      "cell_type": "code",
      "metadata": {
        "colab": {
          "base_uri": "https://localhost:8080/"
        },
        "id": "K17Kgwo08-MG",
        "outputId": "b0200c86-86f2-4a83-97df-45bc37e983d1"
      },
      "source": [
        "df = pd.read_csv('charliehebdo-df.csv', encoding = 'utf-8', header=0)\n",
        "df.info"
      ],
      "id": "K17Kgwo08-MG",
      "execution_count": null,
      "outputs": [
        {
          "output_type": "execute_result",
          "data": {
            "text/plain": [
              "<bound method DataFrame.info of              src_tweet_id  src_user_id  ... src_sentiment reply_sentiment\n",
              "0      552784600502915072    331658004  ...      Positive        Negative\n",
              "1      552784600502915072    331658004  ...      Positive        Negative\n",
              "2      552784600502915072    331658004  ...      Positive         Neutral\n",
              "3      552784600502915072    331658004  ...      Positive         Neutral\n",
              "4      552784600502915072    331658004  ...      Positive         Neutral\n",
              "...                   ...          ...  ...           ...             ...\n",
              "36184  553591259672379392     87416722  ...      Negative        Negative\n",
              "36185  553591259672379392     87416722  ...      Negative        Negative\n",
              "36186  553591259672379392     87416722  ...      Negative        Negative\n",
              "36187  553591259672379392     87416722  ...      Negative        Negative\n",
              "36188  553591259672379392     87416722  ...      Negative         Neutral\n",
              "\n",
              "[36189 rows x 13 columns]>"
            ]
          },
          "metadata": {},
          "execution_count": 9
        }
      ]
    },
    {
      "cell_type": "code",
      "metadata": {
        "colab": {
          "base_uri": "https://localhost:8080/"
        },
        "id": "MJFh1yqX8-ZI",
        "outputId": "7dab02f3-7212-4e25-c210-5bda94fd5043"
      },
      "source": [
        "src_tw_df = pd.read_csv('charliehebdo-src.csv',encoding='utf-8',header=0)\n",
        "src_tw_df.shape"
      ],
      "id": "MJFh1yqX8-ZI",
      "execution_count": null,
      "outputs": [
        {
          "output_type": "execute_result",
          "data": {
            "text/plain": [
              "(2002, 7)"
            ]
          },
          "metadata": {},
          "execution_count": 11
        }
      ]
    },
    {
      "cell_type": "code",
      "metadata": {
        "colab": {
          "base_uri": "https://localhost:8080/"
        },
        "id": "rjmt00sL8-cn",
        "outputId": "cb200b01-315c-448f-aba4-12f2a17bbac2"
      },
      "source": [
        "from nrclex import NRCLex\n",
        "import nltk\n",
        "nltk.download('punkt')"
      ],
      "id": "rjmt00sL8-cn",
      "execution_count": null,
      "outputs": [
        {
          "output_type": "stream",
          "name": "stdout",
          "text": [
            "[nltk_data] Downloading package punkt to /root/nltk_data...\n",
            "[nltk_data]   Unzipping tokenizers/punkt.zip.\n"
          ]
        },
        {
          "output_type": "execute_result",
          "data": {
            "text/plain": [
              "True"
            ]
          },
          "metadata": {},
          "execution_count": 16
        }
      ]
    },
    {
      "cell_type": "code",
      "metadata": {
        "id": "MiLEY1Xe8-f4"
      },
      "source": [
        "def get_emotion(tweet):\n",
        "  score = NRCLex(tweet)\n",
        "  if len(score.top_emotions)>1:\n",
        "    emo = [i[0] for i in score.top_emotions]\n",
        "    emo \n",
        "  else:\n",
        "    emo = score.top_emotions[0][0]\n",
        "  emotion = emo\n",
        "  return emotion\n",
        "\n",
        "  "
      ],
      "id": "MiLEY1Xe8-f4",
      "execution_count": 45,
      "outputs": []
    },
    {
      "cell_type": "code",
      "metadata": {
        "colab": {
          "base_uri": "https://localhost:8080/"
        },
        "id": "Tzk-Wt4YFGyo",
        "outputId": "5ee4e36c-b81f-409c-a93f-dde29540a321"
      },
      "source": [
        "get_emotion(src_tw_df.cleaned_src_tw[00])\n"
      ],
      "id": "Tzk-Wt4YFGyo",
      "execution_count": 42,
      "outputs": [
        {
          "output_type": "execute_result",
          "data": {
            "text/plain": [
              "['fear',\n",
              " 'anger',\n",
              " 'anticip',\n",
              " 'trust',\n",
              " 'surprise',\n",
              " 'positive',\n",
              " 'negative',\n",
              " 'sadness',\n",
              " 'disgust',\n",
              " 'joy']"
            ]
          },
          "metadata": {},
          "execution_count": 42
        }
      ]
    },
    {
      "cell_type": "code",
      "metadata": {
        "id": "df-8rj36E00v"
      },
      "source": [
        "src_tw_df['emotion'] = src_tw_df.cleaned_src_tw.apply(get_emotion)"
      ],
      "id": "df-8rj36E00v",
      "execution_count": 46,
      "outputs": []
    },
    {
      "cell_type": "code",
      "metadata": {
        "colab": {
          "base_uri": "https://localhost:8080/"
        },
        "id": "lM_LmD_1HywD",
        "outputId": "771e1049-1deb-4019-c2ea-6f936bde3c78"
      },
      "source": [
        "src_tw_df.info"
      ],
      "id": "lM_LmD_1HywD",
      "execution_count": 48,
      "outputs": [
        {
          "output_type": "execute_result",
          "data": {
            "text/plain": [
              "<bound method DataFrame.info of             src_tweet_id  ...                                            emotion\n",
              "0     552784600502915072  ...  [fear, anger, anticip, trust, surprise, positi...\n",
              "1     552784898743099392  ...  [fear, anger, anticip, trust, surprise, positi...\n",
              "2     552785391653494784  ...  [fear, anger, positive, negative, sadness, dis...\n",
              "3     552786116404072448  ...                                              trust\n",
              "4     552786299875520512  ...                                           negative\n",
              "...                  ...  ...                                                ...\n",
              "1997  553590653784195072  ...  [fear, anger, anticip, trust, surprise, positi...\n",
              "1998  553590721207615488  ...                                               fear\n",
              "1999  553590835850514433  ...  [fear, anger, anticip, trust, surprise, positi...\n",
              "2000  553590891852886019  ...                            [fear, anger, negative]\n",
              "2001  553591259672379392  ...  [fear, anger, anticip, trust, surprise, positi...\n",
              "\n",
              "[2002 rows x 8 columns]>"
            ]
          },
          "metadata": {},
          "execution_count": 48
        }
      ]
    },
    {
      "cell_type": "markdown",
      "metadata": {
        "id": "formed-amsterdam"
      },
      "source": [
        "## text2emotion package\n",
        "https://snyk.io/advisor/python/text2emotion "
      ],
      "id": "formed-amsterdam"
    },
    {
      "cell_type": "code",
      "metadata": {
        "id": "usual-tractor",
        "outputId": "9c10d8bc-259a-44d0-afb1-fe0543b6a4cb"
      },
      "source": [
        "import text2emotion as te"
      ],
      "id": "usual-tractor",
      "execution_count": null,
      "outputs": [
        {
          "name": "stderr",
          "output_type": "stream",
          "text": [
            "[nltk_data] Downloading package stopwords to\n",
            "[nltk_data]     C:\\Users\\user\\AppData\\Roaming\\nltk_data...\n",
            "[nltk_data]   Package stopwords is already up-to-date!\n",
            "[nltk_data] Downloading package punkt to\n",
            "[nltk_data]     C:\\Users\\user\\AppData\\Roaming\\nltk_data...\n",
            "[nltk_data]   Package punkt is already up-to-date!\n",
            "[nltk_data] Downloading package wordnet to\n",
            "[nltk_data]     C:\\Users\\user\\AppData\\Roaming\\nltk_data...\n",
            "[nltk_data]   Package wordnet is already up-to-date!\n"
          ]
        }
      ]
    },
    {
      "cell_type": "code",
      "metadata": {
        "id": "statistical-window"
      },
      "source": [
        "emotion = df.cleaned_reply_tw.apply(te.get_emotion).cuda()\n",
        "emotion = pd.json_normalize(emotion)"
      ],
      "id": "statistical-window",
      "execution_count": null,
      "outputs": []
    },
    {
      "cell_type": "code",
      "metadata": {
        "id": "differential-bunch"
      },
      "source": [
        "emotion.apply(lambda x: max(x,key=x.get))"
      ],
      "id": "differential-bunch",
      "execution_count": null,
      "outputs": []
    },
    {
      "cell_type": "code",
      "metadata": {
        "id": "msOQo-x4HxvR"
      },
      "source": [
        ""
      ],
      "id": "msOQo-x4HxvR",
      "execution_count": null,
      "outputs": []
    },
    {
      "cell_type": "markdown",
      "metadata": {
        "id": "enabling-executive"
      },
      "source": [
        "##  pysentimiento "
      ],
      "id": "enabling-executive"
    },
    {
      "cell_type": "code",
      "metadata": {
        "id": "sweet-detector",
        "outputId": "039f897b-5c06-434b-ca27-48a4610909e9"
      },
      "source": [
        "from pysentimiento import EmotionAnalyzer"
      ],
      "id": "sweet-detector",
      "execution_count": null,
      "outputs": [
        {
          "name": "stdout",
          "output_type": "stream",
          "text": [
            "INFO:tensorflow:Enabling eager execution\n",
            "INFO:tensorflow:Enabling v2 tensorshape\n",
            "INFO:tensorflow:Enabling resource variables\n",
            "INFO:tensorflow:Enabling tensor equality\n",
            "INFO:tensorflow:Enabling control flow v2\n"
          ]
        }
      ]
    },
    {
      "cell_type": "code",
      "metadata": {
        "id": "sweet-threat"
      },
      "source": [
        "emotion_analyzer = EmotionAnalyzer(lang=\"en\")\n",
        "emo=df.cleaned_reply_tw.apply(emotion_analyzer.predict)"
      ],
      "id": "sweet-threat",
      "execution_count": null,
      "outputs": []
    },
    {
      "cell_type": "code",
      "metadata": {
        "id": "personal-chambers"
      },
      "source": [
        "emo.head()"
      ],
      "id": "personal-chambers",
      "execution_count": null,
      "outputs": []
    },
    {
      "cell_type": "code",
      "metadata": {
        "id": "blind-establishment"
      },
      "source": [
        "emo[1]"
      ],
      "id": "blind-establishment",
      "execution_count": null,
      "outputs": []
    },
    {
      "cell_type": "code",
      "metadata": {
        "id": "failing-float"
      },
      "source": [
        "emo.tail()"
      ],
      "id": "failing-float",
      "execution_count": null,
      "outputs": []
    },
    {
      "cell_type": "code",
      "metadata": {
        "id": "thousand-master"
      },
      "source": [
        "df.reply_tweet[0]"
      ],
      "id": "thousand-master",
      "execution_count": null,
      "outputs": []
    },
    {
      "cell_type": "code",
      "metadata": {
        "id": "worst-mention"
      },
      "source": [
        "from pysentimiento.preprocessing import preprocess_tweet"
      ],
      "id": "worst-mention",
      "execution_count": null,
      "outputs": []
    },
    {
      "cell_type": "code",
      "metadata": {
        "id": "central-magic"
      },
      "source": [
        "temp = df.reply_tweet.apply(preprocess_tweet)\n",
        "emo=temp.apply(emotion_analyzer.predict)"
      ],
      "id": "central-magic",
      "execution_count": null,
      "outputs": []
    },
    {
      "cell_type": "code",
      "metadata": {
        "id": "outstanding-stanford"
      },
      "source": [
        "emo[0]"
      ],
      "id": "outstanding-stanford",
      "execution_count": null,
      "outputs": []
    },
    {
      "cell_type": "code",
      "metadata": {
        "id": "disturbed-slovenia"
      },
      "source": [
        ""
      ],
      "id": "disturbed-slovenia",
      "execution_count": null,
      "outputs": []
    }
  ]
}